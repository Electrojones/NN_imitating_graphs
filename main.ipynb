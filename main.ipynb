{
 "cells": [
  {
   "cell_type": "code",
   "execution_count": 65,
   "metadata": {
    "scrolled": true
   },
   "outputs": [],
   "source": [
    "from keras.models import Sequential\n",
    "from keras.layers import Dense\n",
    "from keras.utils import np_utils\n",
    "import numpy\n",
    "import pandas as pd\n",
    "import matplotlib.pyplot as plt\n",
    "\n",
    "\n",
    "    \n",
    "\n",
    "numpy.random.seed(7)\n",
    "\n",
    "# Defining column names for datasets\n",
    "COLUMN_NAMES = [\n",
    "        'Input', \n",
    "        'Output'\n",
    "        ]\n",
    "\t\t\n",
    "# Import training dataset\n",
    "training_dataset = pd.read_csv('csv_data/DATACSV.txt', names=COLUMN_NAMES, header=0, dtype=numpy.float32)\n",
    "\n",
    "train_x = training_dataset.iloc[:, 0].values\n",
    "train_y = training_dataset.iloc[:, 1].values\n",
    "\n",
    "# Encoding training dataset\n",
    "encoding_train_y = np_utils.to_categorical(train_y)\n",
    "\n",
    "# Creating a model\n",
    "model = Sequential()\n",
    "model.add(Dense(1, input_dim=1, activation='relu'))\n",
    "model.add(Dense(100, activation='relu'))\n",
    "model.add(Dense(100, activation='relu'))\n",
    "model.add(Dense(100, activation='relu'))\n",
    "model.add(Dense(1, activation='linear'))\n",
    "\n",
    "\n",
    "\n",
    "# Compiling model\n",
    "model.compile(loss='mean_squared_error', optimizer='sgd', metrics=['accuracy'])\n",
    "def train(epo):\n",
    "    # Training a model\n",
    "    model.fit(train_x, train_y, epochs=epo, batch_size=1)"
   ]
  },
  {
   "cell_type": "code",
   "execution_count": 66,
   "metadata": {
    "scrolled": false
   },
   "outputs": [
    {
     "name": "stdout",
     "output_type": "stream",
     "text": [
      "Epoch 1/5\n",
      "201/201 [==============================] - 1s 7ms/step - loss: 0.5149 - acc: 0.0050\n",
      "Epoch 2/5\n",
      "201/201 [==============================] - 1s 3ms/step - loss: 0.4411 - acc: 0.0100\n",
      "Epoch 3/5\n",
      "201/201 [==============================] - 1s 4ms/step - loss: 0.3784 - acc: 0.0199\n",
      "Epoch 4/5\n",
      "201/201 [==============================] - 1s 3ms/step - loss: 0.3290 - acc: 0.0448\n",
      "Epoch 5/5\n",
      "201/201 [==============================] - 1s 4ms/step - loss: 0.2943 - acc: 0.0448\n",
      "Epoch 1/5\n",
      "201/201 [==============================] - 1s 3ms/step - loss: 0.2999 - acc: 0.0448\n",
      "Epoch 2/5\n",
      "201/201 [==============================] - 1s 4ms/step - loss: 0.2860 - acc: 0.0448\n",
      "Epoch 3/5\n",
      "201/201 [==============================] - 1s 4ms/step - loss: 0.2911 - acc: 0.0448\n",
      "Epoch 4/5\n",
      "201/201 [==============================] - 1s 3ms/step - loss: 0.2877 - acc: 0.0448\n",
      "Epoch 5/5\n",
      "201/201 [==============================] - 1s 5ms/step - loss: 0.2791 - acc: 0.0398\n",
      "Epoch 1/5\n",
      "201/201 [==============================] - 1s 4ms/step - loss: 0.3007 - acc: 0.0398\n",
      "Epoch 2/5\n",
      "201/201 [==============================] - 1s 4ms/step - loss: 0.2853 - acc: 0.0448\n",
      "Epoch 3/5\n",
      "201/201 [==============================] - 1s 4ms/step - loss: 0.2795 - acc: 0.0448\n",
      "Epoch 4/5\n",
      "201/201 [==============================] - 1s 4ms/step - loss: 0.2796 - acc: 0.0448\n",
      "Epoch 5/5\n",
      "201/201 [==============================] - 1s 4ms/step - loss: 0.2853 - acc: 0.0448\n",
      "Epoch 1/5\n",
      "201/201 [==============================] - 1s 3ms/step - loss: 0.2824 - acc: 0.0448\n",
      "Epoch 2/5\n",
      "201/201 [==============================] - 1s 3ms/step - loss: 0.2847 - acc: 0.0448\n",
      "Epoch 3/5\n",
      "201/201 [==============================] - 1s 4ms/step - loss: 0.2832 - acc: 0.0448\n",
      "Epoch 4/5\n",
      "201/201 [==============================] - 1s 3ms/step - loss: 0.2807 - acc: 0.0448\n",
      "Epoch 5/5\n",
      "201/201 [==============================] - 1s 4ms/step - loss: 0.2815 - acc: 0.0348\n",
      "Epoch 1/5\n",
      "201/201 [==============================] - 1s 3ms/step - loss: 0.2817 - acc: 0.0448\n",
      "Epoch 2/5\n",
      "201/201 [==============================] - 1s 3ms/step - loss: 0.2775 - acc: 0.0448\n",
      "Epoch 3/5\n",
      "201/201 [==============================] - 1s 3ms/step - loss: 0.2775 - acc: 0.0448\n",
      "Epoch 4/5\n",
      "201/201 [==============================] - 1s 3ms/step - loss: 0.2733 - acc: 0.0448\n",
      "Epoch 5/5\n",
      "201/201 [==============================] - 1s 3ms/step - loss: 0.2747 - acc: 0.0448\n"
     ]
    },
    {
     "data": {
      "image/png": "[encoded data removed]",
      "text/plain": [
       "<Figure size 432x288 with 1 Axes>"
      ]
     },
     "metadata": {
      "needs_background": "light"
     },
     "output_type": "display_data"
    }
   ],
   "source": [
    "#plt.figure()\n",
    "#ax = plt.gca()\n",
    "\n",
    "plt.plot(train_x, train_y)\n",
    "\n",
    "for i in range(5):\n",
    "    train(5)\n",
    "    collect_vals=[]\n",
    "    \n",
    "    i=-5\n",
    "    while i < 5.05:\n",
    "        i=round(i, 2)\n",
    "        collect_vals.append(float(model.predict(numpy.array([i]))))\n",
    "        i+=0.05\n",
    "    collect_vals=numpy.array(collect_vals)\n",
    "    \n",
    "    plt.plot(train_x, collect_vals)\n",
    "    "
   ]
  },
  {
   "cell_type": "code",
   "execution_count": null,
   "metadata": {},
   "outputs": [],
   "source": []
  }
 ],
 "metadata": {
  "kernelspec": {
   "display_name": "Python 3",
   "language": "python",
   "name": "python3"
  },
  "language_info": {
   "codemirror_mode": {
    "name": "ipython",
    "version": 3
   },
   "file_extension": ".py",
   "mimetype": "text/x-python",
   "name": "python",
   "nbconvert_exporter": "python",
   "pygments_lexer": "ipython3",
   "version": "3.6.8"
  }
 },
 "nbformat": 4,
 "nbformat_minor": 2
}
